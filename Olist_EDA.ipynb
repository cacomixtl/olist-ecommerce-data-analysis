{
  "nbformat": 4,
  "nbformat_minor": 0,
  "metadata": {
    "colab": {
      "provenance": [],
      "authorship_tag": "ABX9TyO9Ks6MpIqJ3YCMYjC1n5JL",
      "include_colab_link": true
    },
    "kernelspec": {
      "name": "python3",
      "display_name": "Python 3"
    },
    "language_info": {
      "name": "python"
    }
  },
  "cells": [
    {
      "cell_type": "markdown",
      "metadata": {
        "id": "view-in-github",
        "colab_type": "text"
      },
      "source": [
        "<a href=\"https://colab.research.google.com/github/cacomixtl/olist-ecommerce-data-analysis/blob/main/Olist_EDA.ipynb\" target=\"_parent\"><img src=\"https://colab.research.google.com/assets/colab-badge.svg\" alt=\"Open In Colab\"/></a>"
      ]
    },
    {
      "cell_type": "code",
      "execution_count": 1,
      "metadata": {
        "colab": {
          "base_uri": "https://localhost:8080/"
        },
        "id": "uYoGCW4UMCeZ",
        "outputId": "0c3af991-90cd-4f94-b128-491b8b690dda"
      },
      "outputs": [
        {
          "output_type": "stream",
          "name": "stdout",
          "text": [
            "Mounted at /content/drive\n"
          ]
        }
      ],
      "source": [
        "# prompt: mount drive\n",
        "\n",
        "from google.colab import drive\n",
        "drive.mount('/content/drive')\n"
      ]
    },
    {
      "cell_type": "code",
      "source": [
        "import sqlite3\n",
        "import pandas as pd\n",
        "\n",
        "# 1. Define the path to your database file in Colab\n",
        "# (This will be just the filename if you uploaded it directly to the root of session storage)\n",
        "db_file_path = '/content/drive/MyDrive/Olist_Ecommerce/olist_project'\n",
        "\n",
        "# 2. Create a database connection\n",
        "try:\n",
        "    conn = sqlite3.connect(db_file_path)\n",
        "    print(f\"Successfully connected to {db_file_path}\")\n",
        "\n",
        "    # Create a cursor object (optional for simple pd.read_sql_query)\n",
        "    cur = conn.cursor()\n",
        "\n",
        "    # 4. Write your SQL query\n",
        "    # This is where you'll build the comprehensive query from Module 2\n",
        "    # For now, let's test with a simple query:\n",
        "    query = \"\"\"\n",
        "    -- Common Table Expression (CTE) to aggregate payment information per order\n",
        "WITH OrderPaymentsAgg AS (\n",
        "    SELECT\n",
        "        op.order_id,\n",
        "        SUM(op.payment_value) AS total_payment_value,\n",
        "        -- Grouping payment types for an order.\n",
        "        -- For SQLite, GROUP_CONCAT is available. For other SQL dialects, this might need adjustment (e.g., STRING_AGG).\n",
        "        GROUP_CONCAT(DISTINCT op.payment_type) AS payment_types,\n",
        "        SUM(CASE WHEN op.payment_type = 'credit_card' THEN op.payment_installments ELSE 0 END) AS total_credit_card_installments\n",
        "    FROM order_payments op\n",
        "    GROUP BY op.order_id\n",
        ")\n",
        "-- Main query to build the Analytical Base Table (ABT)\n",
        "SELECT\n",
        "    -- Order Information\n",
        "    o.order_id,\n",
        "    o.order_status,\n",
        "    o.order_purchase_timestamp,\n",
        "    o.order_approved_at,\n",
        "    o.order_delivered_carrier_date,\n",
        "    o.order_delivered_customer_date,\n",
        "    o.order_estimated_delivery_date,\n",
        "\n",
        "    -- Order Item Information\n",
        "    oi.order_item_id, -- Sequence of item in an order\n",
        "    oi.product_id,\n",
        "    oi.seller_id,\n",
        "    oi.shipping_limit_date,\n",
        "    oi.price AS item_price,\n",
        "    oi.freight_value AS item_freight_value,\n",
        "\n",
        "    -- Product Information\n",
        "    p.product_category_name AS product_category_name_portuguese,\n",
        "    pcnt.product_category_name_english,\n",
        "    p.product_weight_g,\n",
        "    p.product_length_cm,\n",
        "    p.product_height_cm,\n",
        "    p.product_width_cm,\n",
        "\n",
        "    -- Customer Information\n",
        "    c.customer_unique_id, -- Use this for customer-level analysis (RFM, etc.)\n",
        "    c.customer_zip_code_prefix,\n",
        "    c.customer_city,\n",
        "    c.customer_state,\n",
        "\n",
        "    -- Seller Information\n",
        "    s.seller_zip_code_prefix AS seller_zip_code_prefix,\n",
        "    s.seller_city AS seller_city,\n",
        "    s.seller_state AS seller_state,\n",
        "\n",
        "    -- Aggregated Payment Information (from CTE)\n",
        "    opa.total_payment_value,\n",
        "    opa.payment_types,\n",
        "    opa.total_credit_card_installments,\n",
        "\n",
        "    -- Review Information\n",
        "    r.review_score,\n",
        "    r.review_comment_title, -- Included for potential qualitative insights later\n",
        "    r.review_comment_message, -- Included for potential qualitative insights later\n",
        "    r.review_creation_date,\n",
        "    r.review_answer_timestamp\n",
        "\n",
        "FROM orders o\n",
        "INNER JOIN order_items oi\n",
        "    ON o.order_id = oi.order_id\n",
        "LEFT JOIN products p\n",
        "    ON oi.product_id = p.product_id\n",
        "LEFT JOIN product_name_translation pcnt\n",
        "    ON p.product_category_name = pcnt.product_category_name\n",
        "LEFT JOIN customers c\n",
        "    ON o.customer_id = c.customer_id -- Note: o.customer_id links to a specific order's customer record\n",
        "LEFT JOIN sellers s\n",
        "    ON oi.seller_id = s.seller_id\n",
        "LEFT JOIN OrderPaymentsAgg opa -- Joining the aggregated payment CTE\n",
        "    ON o.order_id = opa.order_id\n",
        "LEFT JOIN order_reviews r\n",
        "    ON o.order_id = r.order_id     -- Assumes one main review per order for this join\n",
        "\n",
        "-- Filtering for delivered orders, which are typically the focus of e-commerce analysis.\n",
        "-- This can be removed or modified if other order statuses need to be analyzed.\n",
        "WHERE\n",
        "    o.order_status = 'delivered'\n",
        "ORDER BY\n",
        "    o.order_purchase_timestamp, -- Ordering by purchase time\n",
        "    o.order_id,\n",
        "    oi.order_item_id; -- Ensures a consistent order for the data\n",
        "\n",
        "    \"\"\"\n",
        "    # Note: Adjust table and column names in the query above to EXACTLY match\n",
        "    # how you defined them in your SQL SCHEMAS.sql and how they exist in your SQLite database.\n",
        "    # For example, if your products table is named 'products', use 'products.product_id' etc.\n",
        "    # I used 'prod' as an alias for 'products' in the join to avoid potential naming conflicts\n",
        "    # if your actual table is 'products' and you also have a column named 'products' (unlikely but good practice).\n",
        "    # Ensure your 'product_name_translation' table is correctly joined.\n",
        "\n",
        "    # 5. Execute the query and load results into a Pandas DataFrame\n",
        "    print(\"\\nExecuting query...\")\n",
        "    df_main = pd.read_sql_query(query, conn)\n",
        "    print(\"Query executed successfully.\")\n",
        "\n",
        "    # 6. Display the first few rows of the DataFrame\n",
        "    print(\"\\nFirst 5 rows of the resulting DataFrame:\")\n",
        "    print(df_main.head())\n",
        "\n",
        "    print(f\"\\nShape of the DataFrame: {df_main.shape}\")\n",
        "\n",
        "except sqlite3.Error as e:\n",
        "    print(f\"SQLite error: {e}\")\n",
        "except Exception as e:\n",
        "    print(f\"An error occurred: {e}\")\n",
        "finally:\n",
        "    # 7. Close the connection\n",
        "    if conn:\n",
        "        conn.close()\n",
        "        print(\"\\nDatabase connection closed.\")"
      ],
      "metadata": {
        "id": "zTgb79HZM6CF",
        "colab": {
          "base_uri": "https://localhost:8080/"
        },
        "outputId": "e10a126c-a436-4ca8-c730-fcba387defad"
      },
      "execution_count": 2,
      "outputs": [
        {
          "output_type": "stream",
          "name": "stdout",
          "text": [
            "Successfully connected to /content/drive/MyDrive/Olist_Ecommerce/olist_project\n",
            "\n",
            "Executing query...\n",
            "Query executed successfully.\n",
            "\n",
            "First 5 rows of the resulting DataFrame:\n",
            "                           order_id order_status order_purchase_timestamp  \\\n",
            "0  bfbd0f9bdef84302105ad712db648a6c    delivered      2016-09-15 12:16:38   \n",
            "1  bfbd0f9bdef84302105ad712db648a6c    delivered      2016-09-15 12:16:38   \n",
            "2  bfbd0f9bdef84302105ad712db648a6c    delivered      2016-09-15 12:16:38   \n",
            "3  3b697a20d9e427646d92567910af6d57    delivered      2016-10-03 09:44:50   \n",
            "4  be5bc2f0da14d8071e2d45451ad119d9    delivered      2016-10-03 16:56:50   \n",
            "\n",
            "     order_approved_at order_delivered_carrier_date  \\\n",
            "0  2016-09-15 12:16:38          2016-11-07 17:11:53   \n",
            "1  2016-09-15 12:16:38          2016-11-07 17:11:53   \n",
            "2  2016-09-15 12:16:38          2016-11-07 17:11:53   \n",
            "3  2016-10-06 15:50:54          2016-10-23 14:02:13   \n",
            "4  2016-10-06 16:03:44          2016-10-21 16:33:46   \n",
            "\n",
            "  order_delivered_customer_date order_estimated_delivery_date  order_item_id  \\\n",
            "0           2016-11-09 07:47:38           2016-10-04 00:00:00              1   \n",
            "1           2016-11-09 07:47:38           2016-10-04 00:00:00              2   \n",
            "2           2016-11-09 07:47:38           2016-10-04 00:00:00              3   \n",
            "3           2016-10-26 14:02:13           2016-10-27 00:00:00              1   \n",
            "4           2016-10-27 18:19:38           2016-11-07 00:00:00              1   \n",
            "\n",
            "                         product_id                         seller_id  ...  \\\n",
            "0  5a6b04657a4c5ee34285d1e4619a96b4  ecccfa2bb93b34a3bf033cc5d1dcdc69  ...   \n",
            "1  5a6b04657a4c5ee34285d1e4619a96b4  ecccfa2bb93b34a3bf033cc5d1dcdc69  ...   \n",
            "2  5a6b04657a4c5ee34285d1e4619a96b4  ecccfa2bb93b34a3bf033cc5d1dcdc69  ...   \n",
            "3  3ae08df6bcbfe23586dd431c40bddbb7  522620dcb18a6b31cd7bdf73665113a9  ...   \n",
            "4  fd7fd78fd3cbc1b0a6370a7909c0a629  f09b760d23495ac9a7e00d29b769007c  ...   \n",
            "\n",
            "  seller_city  seller_state  total_payment_value payment_types  \\\n",
            "0    curitiba            PR                  NaN          None   \n",
            "1    curitiba            PR                  NaN          None   \n",
            "2    curitiba            PR                  NaN          None   \n",
            "3    cascavel            PR                45.46        boleto   \n",
            "4   catanduva            SP                39.09        boleto   \n",
            "\n",
            "  total_credit_card_installments review_score review_comment_title  \\\n",
            "0                            NaN          1.0                        \n",
            "1                            NaN          1.0                        \n",
            "2                            NaN          1.0                        \n",
            "3                            0.0          4.0                        \n",
            "4                            0.0          4.0                        \n",
            "\n",
            "                           review_comment_message review_creation_date  \\\n",
            "0  nao recebi o produto e nem resposta da empresa  2016-10-06 00:00:00   \n",
            "1  nao recebi o produto e nem resposta da empresa  2016-10-06 00:00:00   \n",
            "2  nao recebi o produto e nem resposta da empresa  2016-10-06 00:00:00   \n",
            "3              Facilidade em manusear o aparelho.  2016-10-26 00:00:00   \n",
            "4                                   Tudo certo...  2016-10-28 00:00:00   \n",
            "\n",
            "  review_answer_timestamp  \n",
            "0     2016-10-07 18:32:28  \n",
            "1     2016-10-07 18:32:28  \n",
            "2     2016-10-07 18:32:28  \n",
            "3     2016-10-30 21:32:15  \n",
            "4     2016-10-29 11:29:53  \n",
            "\n",
            "[5 rows x 34 columns]\n",
            "\n",
            "Shape of the DataFrame: (110493, 34)\n",
            "\n",
            "Database connection closed.\n"
          ]
        }
      ]
    },
    {
      "cell_type": "code",
      "source": [
        "print(\"DataFrame Info:\")\n",
        "df_main.info()"
      ],
      "metadata": {
        "colab": {
          "base_uri": "https://localhost:8080/"
        },
        "id": "Fjq56qwEAd-7",
        "outputId": "042dc766-5c08-45e7-afd9-6cdd1fea7369"
      },
      "execution_count": 3,
      "outputs": [
        {
          "output_type": "stream",
          "name": "stdout",
          "text": [
            "DataFrame Info:\n",
            "<class 'pandas.core.frame.DataFrame'>\n",
            "RangeIndex: 110493 entries, 0 to 110492\n",
            "Data columns (total 34 columns):\n",
            " #   Column                            Non-Null Count   Dtype  \n",
            "---  ------                            --------------   -----  \n",
            " 0   order_id                          110493 non-null  object \n",
            " 1   order_status                      110493 non-null  object \n",
            " 2   order_purchase_timestamp          110493 non-null  object \n",
            " 3   order_approved_at                 110493 non-null  object \n",
            " 4   order_delivered_carrier_date      110493 non-null  object \n",
            " 5   order_delivered_customer_date     110493 non-null  object \n",
            " 6   order_estimated_delivery_date     110493 non-null  object \n",
            " 7   order_item_id                     110493 non-null  int64  \n",
            " 8   product_id                        110493 non-null  object \n",
            " 9   seller_id                         110493 non-null  object \n",
            " 10  shipping_limit_date               110493 non-null  object \n",
            " 11  item_price                        110493 non-null  float64\n",
            " 12  item_freight_value                110493 non-null  float64\n",
            " 13  product_category_name_portuguese  110493 non-null  object \n",
            " 14  product_category_name_english     108928 non-null  object \n",
            " 15  product_weight_g                  110493 non-null  object \n",
            " 16  product_length_cm                 110493 non-null  object \n",
            " 17  product_height_cm                 110493 non-null  object \n",
            " 18  product_width_cm                  110493 non-null  object \n",
            " 19  customer_unique_id                110493 non-null  object \n",
            " 20  customer_zip_code_prefix          110493 non-null  int64  \n",
            " 21  customer_city                     110493 non-null  object \n",
            " 22  customer_state                    110493 non-null  object \n",
            " 23  seller_zip_code_prefix            110493 non-null  int64  \n",
            " 24  seller_city                       110493 non-null  object \n",
            " 25  seller_state                      110493 non-null  object \n",
            " 26  total_payment_value               110490 non-null  float64\n",
            " 27  payment_types                     110490 non-null  object \n",
            " 28  total_credit_card_installments    110490 non-null  float64\n",
            " 29  review_score                      109133 non-null  float64\n",
            " 30  review_comment_title              109133 non-null  object \n",
            " 31  review_comment_message            109133 non-null  object \n",
            " 32  review_creation_date              109133 non-null  object \n",
            " 33  review_answer_timestamp           109133 non-null  object \n",
            "dtypes: float64(5), int64(3), object(26)\n",
            "memory usage: 28.7+ MB\n"
          ]
        }
      ]
    },
    {
      "cell_type": "markdown",
      "source": [
        "Data type correction"
      ],
      "metadata": {
        "id": "soCwvEjUZ5JO"
      }
    },
    {
      "cell_type": "code",
      "source": [
        "print(\"Converting timestamp columns to datetime...\")\n",
        "timestamp_cols = [\n",
        "    'order_purchase_timestamp', 'order_approved_at',\n",
        "    'order_delivered_carrier_date', 'order_delivered_customer_date',\n",
        "    'order_estimated_delivery_date', 'shipping_limit_date',\n",
        "    'review_creation_date', 'review_answer_timestamp'\n",
        "]\n",
        "for col in timestamp_cols:\n",
        "    df_main[col] = pd.to_datetime(df_main[col], errors='coerce')\n",
        "print(\"Timestamp conversion done.\")\n",
        "# Verify:\n",
        "# print(df_main[timestamp_cols].info())\n",
        "# print(df_main[timestamp_cols].isnull().sum()) # Check for new NaTs\n"
      ],
      "metadata": {
        "colab": {
          "base_uri": "https://localhost:8080/"
        },
        "id": "Df-Q3Y4vXFJ6",
        "outputId": "e41b9ad4-bb8b-47b9-b5b6-769425c53769"
      },
      "execution_count": 4,
      "outputs": [
        {
          "output_type": "stream",
          "name": "stdout",
          "text": [
            "Converting timestamp columns to datetime...\n",
            "Timestamp conversion done.\n"
          ]
        }
      ]
    },
    {
      "cell_type": "code",
      "source": [
        "print(\"\\nConverting product dimension columns to numeric...\")\n",
        "product_dimension_cols = [\n",
        "    'product_weight_g', 'product_length_cm',\n",
        "    'product_height_cm', 'product_width_cm'\n",
        "]\n",
        "for col in product_dimension_cols:\n",
        "    df_main[col] = pd.to_numeric(df_main[col], errors='coerce')\n",
        "    # Consider converting to integer if appropriate after checking for decimals\n",
        "    # For now, float64 (default for to_numeric) is fine.\n",
        "print(\"Product dimension conversion done.\")\n",
        "# Verify:\n",
        "# print(df_main[product_dimension_cols].info())\n",
        "# print(df_main[product_dimension_cols].isnull().sum()) # Check for NaNs if conversion failed for some rows\n"
      ],
      "metadata": {
        "colab": {
          "base_uri": "https://localhost:8080/"
        },
        "id": "rEut65RVaxlT",
        "outputId": "f5b066e2-724a-4f9c-b723-91a888279d7d"
      },
      "execution_count": 5,
      "outputs": [
        {
          "output_type": "stream",
          "name": "stdout",
          "text": [
            "\n",
            "Converting product dimension columns to numeric...\n",
            "Product dimension conversion done.\n"
          ]
        }
      ]
    },
    {
      "cell_type": "code",
      "source": [
        "print(\"\\nConverting zip code columns to string...\")\n",
        "zip_code_cols = ['customer_zip_code_prefix', 'seller_zip_code_prefix']\n",
        "for col in zip_code_cols:\n",
        "    df_main[col] = df_main[col].astype(str)\n",
        "print(\"Zip code conversion done.\")\n",
        "# Verify:\n",
        "# print(df_main[zip_code_cols].info())\n"
      ],
      "metadata": {
        "colab": {
          "base_uri": "https://localhost:8080/"
        },
        "id": "YzuKlKD6a5zT",
        "outputId": "9d717e18-d291-4f2b-fcf0-602ba887e6e5"
      },
      "execution_count": 6,
      "outputs": [
        {
          "output_type": "stream",
          "name": "stdout",
          "text": [
            "\n",
            "Converting zip code columns to string...\n",
            "Zip code conversion done.\n"
          ]
        }
      ]
    },
    {
      "cell_type": "code",
      "source": [
        "print(f\"\\nShape before dropping payment NaNs: {df_main.shape}\")\n",
        "df_main.dropna(subset=['total_payment_value'], inplace=True) # This will drop rows where any of these are NaN if they are the same 3 rows\n",
        "print(f\"Shape after dropping payment NaNs: {df_main.shape}\")\n"
      ],
      "metadata": {
        "colab": {
          "base_uri": "https://localhost:8080/"
        },
        "id": "o-dqOakpbGdk",
        "outputId": "6f34841c-de47-444d-c241-aa50de1e26b6"
      },
      "execution_count": 7,
      "outputs": [
        {
          "output_type": "stream",
          "name": "stdout",
          "text": [
            "\n",
            "Shape before dropping payment NaNs: (110493, 34)\n",
            "Shape after dropping payment NaNs: (110490, 34)\n"
          ]
        }
      ]
    },
    {
      "cell_type": "code",
      "source": [
        "print(\"\\nConverting 'total_credit_card_installments' to integer...\")\n",
        "df_main['total_credit_card_installments'] = df_main['total_credit_card_installments'].astype('int64')\n",
        "print(\"'total_credit_card_installments' conversion done.\")\n",
        "# Verify:\n",
        "#print(df_main[['total_credit_card_installments']].info())\n"
      ],
      "metadata": {
        "colab": {
          "base_uri": "https://localhost:8080/"
        },
        "id": "sNcdFN4YbtQY",
        "outputId": "522d01d3-9fcc-45b1-d590-637c4e5322c7"
      },
      "execution_count": 10,
      "outputs": [
        {
          "output_type": "stream",
          "name": "stdout",
          "text": [
            "\n",
            "Converting 'total_credit_card_installments' to integer...\n",
            "'total_credit_card_installments' conversion done.\n"
          ]
        }
      ]
    },
    {
      "cell_type": "markdown",
      "source": [
        "Data imputation"
      ],
      "metadata": {
        "id": "vw84lW1KgZRy"
      }
    },
    {
      "cell_type": "code",
      "source": [
        "print(\"\\nImputing missing 'product_category_name_english'...\")\n",
        "df_main['product_category_name_english'].fillna('Unknown Category', inplace=True)\n",
        "print(\"'product_category_name_english' imputation done.\")\n",
        "# Verify:\n",
        "print(df_main['product_category_name_english'].isnull().sum())\n"
      ],
      "metadata": {
        "colab": {
          "base_uri": "https://localhost:8080/"
        },
        "id": "7JI6TNKleK19",
        "outputId": "5a1ccb32-9d92-4d7c-ce16-ad39cb0085e3"
      },
      "execution_count": 14,
      "outputs": [
        {
          "output_type": "stream",
          "name": "stdout",
          "text": [
            "\n",
            "Imputing missing 'product_category_name_english'...\n",
            "'product_category_name_english' imputation done.\n",
            "0\n"
          ]
        }
      ]
    },
    {
      "cell_type": "code",
      "source": [
        "print(\"\\nImputing missing review text fields...\")\n",
        "df_main['review_comment_title'].fillna('No Title Provided', inplace=True)\n",
        "df_main['review_comment_message'].fillna('No Comment Provided', inplace=True)\n",
        "print(\"Review text fields imputation done.\")\n",
        "# Verify:\n",
        "print(df_main[['review_comment_title', 'review_comment_message']].isnull().sum())\n"
      ],
      "metadata": {
        "colab": {
          "base_uri": "https://localhost:8080/"
        },
        "id": "UUpEZf1Zg9t7",
        "outputId": "efd977ca-70e0-4d80-9b14-ff329163dc2a"
      },
      "execution_count": 15,
      "outputs": [
        {
          "output_type": "stream",
          "name": "stdout",
          "text": [
            "\n",
            "Imputing missing review text fields...\n",
            "Review text fields imputation done.\n",
            "review_comment_title      0\n",
            "review_comment_message    0\n",
            "dtype: int64\n"
          ]
        }
      ]
    },
    {
      "cell_type": "markdown",
      "source": [
        "Duplication check"
      ],
      "metadata": {
        "id": "xUzW5ztyhbnT"
      }
    },
    {
      "cell_type": "code",
      "source": [
        "print(f\"\\nNumber of full duplicate rows: {df_main.duplicated().sum()}\")\n",
        "if df_main.duplicated().sum() > 0:\n",
        "    df_main.drop_duplicates(inplace=True)\n",
        "    print(f\"Dropped duplicate rows. New shape: {df_main.shape}\")\n"
      ],
      "metadata": {
        "colab": {
          "base_uri": "https://localhost:8080/"
        },
        "id": "t0d2kEWwhQ_9",
        "outputId": "fc62056f-6f0a-4ab2-9302-d0831f39479a"
      },
      "execution_count": 16,
      "outputs": [
        {
          "output_type": "stream",
          "name": "stdout",
          "text": [
            "\n",
            "Number of full duplicate rows: 0\n"
          ]
        }
      ]
    },
    {
      "cell_type": "markdown",
      "source": [
        "Data type validation\n"
      ],
      "metadata": {
        "id": "vN9oP0PMiMyl"
      }
    },
    {
      "cell_type": "code",
      "source": [
        "print(\"DataFrame Info:\")\n",
        "df_main.info()"
      ],
      "metadata": {
        "colab": {
          "base_uri": "https://localhost:8080/"
        },
        "id": "YKkEUwtniLbS",
        "outputId": "4f329678-caf2-4923-e776-00041bc67d17"
      },
      "execution_count": 17,
      "outputs": [
        {
          "output_type": "stream",
          "name": "stdout",
          "text": [
            "DataFrame Info:\n",
            "<class 'pandas.core.frame.DataFrame'>\n",
            "Index: 110490 entries, 3 to 110492\n",
            "Data columns (total 34 columns):\n",
            " #   Column                            Non-Null Count   Dtype         \n",
            "---  ------                            --------------   -----         \n",
            " 0   order_id                          110490 non-null  object        \n",
            " 1   order_status                      110490 non-null  object        \n",
            " 2   order_purchase_timestamp          110490 non-null  datetime64[ns]\n",
            " 3   order_approved_at                 110475 non-null  datetime64[ns]\n",
            " 4   order_delivered_carrier_date      110488 non-null  datetime64[ns]\n",
            " 5   order_delivered_customer_date     110482 non-null  datetime64[ns]\n",
            " 6   order_estimated_delivery_date     110490 non-null  datetime64[ns]\n",
            " 7   order_item_id                     110490 non-null  int64         \n",
            " 8   product_id                        110490 non-null  object        \n",
            " 9   seller_id                         110490 non-null  object        \n",
            " 10  shipping_limit_date               110490 non-null  datetime64[ns]\n",
            " 11  item_price                        110490 non-null  float64       \n",
            " 12  item_freight_value                110490 non-null  float64       \n",
            " 13  product_category_name_portuguese  110490 non-null  object        \n",
            " 14  product_category_name_english     110490 non-null  object        \n",
            " 15  product_weight_g                  110472 non-null  float64       \n",
            " 16  product_length_cm                 110472 non-null  float64       \n",
            " 17  product_height_cm                 110472 non-null  float64       \n",
            " 18  product_width_cm                  110472 non-null  float64       \n",
            " 19  customer_unique_id                110490 non-null  object        \n",
            " 20  customer_zip_code_prefix          110490 non-null  object        \n",
            " 21  customer_city                     110490 non-null  object        \n",
            " 22  customer_state                    110490 non-null  object        \n",
            " 23  seller_zip_code_prefix            110490 non-null  object        \n",
            " 24  seller_city                       110490 non-null  object        \n",
            " 25  seller_state                      110490 non-null  object        \n",
            " 26  total_payment_value               110490 non-null  float64       \n",
            " 27  payment_types                     110490 non-null  object        \n",
            " 28  total_credit_card_installments    110490 non-null  int64         \n",
            " 29  review_score                      109130 non-null  float64       \n",
            " 30  review_comment_title              110490 non-null  object        \n",
            " 31  review_comment_message            110490 non-null  object        \n",
            " 32  review_creation_date              109130 non-null  datetime64[ns]\n",
            " 33  review_answer_timestamp           109130 non-null  datetime64[ns]\n",
            "dtypes: datetime64[ns](8), float64(8), int64(2), object(16)\n",
            "memory usage: 29.5+ MB\n"
          ]
        }
      ]
    },
    {
      "cell_type": "code",
      "source": [
        "print(\"\\nDescriptive Statistics (Numerical):\")\n",
        "print(df_main.describe())"
      ],
      "metadata": {
        "colab": {
          "base_uri": "https://localhost:8080/"
        },
        "id": "R-cB2ChyMqKI",
        "outputId": "71c3988d-a883-4301-d919-435e3d1cff0d"
      },
      "execution_count": 18,
      "outputs": [
        {
          "output_type": "stream",
          "name": "stdout",
          "text": [
            "\n",
            "Descriptive Statistics (Numerical):\n",
            "            order_purchase_timestamp              order_approved_at  \\\n",
            "count                         110490                         110475   \n",
            "mean   2018-01-01 22:49:30.717060608  2018-01-02 10:23:17.652138240   \n",
            "min              2016-10-03 09:44:50            2016-10-04 09:43:32   \n",
            "25%    2017-09-14 21:55:54.249999872            2017-09-15 11:30:03   \n",
            "50%       2018-01-20 21:21:11.500000            2018-01-22 13:52:06   \n",
            "75%              2018-05-05 11:09:04     2018-05-05 17:55:13.500000   \n",
            "max              2018-08-29 15:00:37            2018-08-29 15:10:26   \n",
            "std                              NaN                            NaN   \n",
            "\n",
            "        order_delivered_carrier_date  order_delivered_customer_date  \\\n",
            "count                         110488                         110482   \n",
            "mean   2018-01-05 05:41:37.502316800  2018-01-14 10:01:45.804936704   \n",
            "min              2016-10-08 10:34:01            2016-10-11 13:46:32   \n",
            "25%       2017-09-18 21:27:25.500000     2017-09-26 19:27:08.500000   \n",
            "50%       2018-01-24 18:02:43.500000     2018-02-02 19:55:45.500000   \n",
            "75%              2018-05-08 13:58:00  2018-05-15 19:06:37.750000128   \n",
            "max              2018-09-11 19:48:28            2018-10-17 13:22:46   \n",
            "std                              NaN                            NaN   \n",
            "\n",
            "       order_estimated_delivery_date  order_item_id  \\\n",
            "count                         110490  110490.000000   \n",
            "mean   2018-01-25 18:13:56.318218752       1.198778   \n",
            "min              2016-10-27 00:00:00       1.000000   \n",
            "25%              2017-10-06 00:00:00       1.000000   \n",
            "50%              2018-02-16 00:00:00       1.000000   \n",
            "75%              2018-05-28 00:00:00       1.000000   \n",
            "max              2018-10-25 00:00:00      21.000000   \n",
            "std                              NaN       0.708837   \n",
            "\n",
            "                 shipping_limit_date     item_price  item_freight_value  \\\n",
            "count                         110490  110490.000000       110490.000000   \n",
            "mean   2018-01-08 13:23:42.701312256     119.904586           19.943890   \n",
            "min              2016-10-08 10:34:01       0.850000            0.000000   \n",
            "25%    2017-09-21 12:51:44.249999872      39.900000           13.080000   \n",
            "50%              2018-01-26 17:54:40      74.900000           16.250000   \n",
            "75%              2018-05-10 18:15:18     134.000000           21.150000   \n",
            "max              2020-04-09 22:35:08    6735.000000          409.680000   \n",
            "std                              NaN     182.158137           15.687569   \n",
            "\n",
            "       product_weight_g  product_length_cm  product_height_cm  \\\n",
            "count     110472.000000      110472.000000      110472.000000   \n",
            "mean        2089.266457          30.149640          16.551452   \n",
            "min            0.000000           7.000000           2.000000   \n",
            "25%          300.000000          18.000000           8.000000   \n",
            "50%          700.000000          25.000000          13.000000   \n",
            "75%         1800.000000          38.000000          20.000000   \n",
            "max        40425.000000         105.000000         105.000000   \n",
            "std         3741.377808          16.119981          13.408387   \n",
            "\n",
            "       product_width_cm  total_payment_value  total_credit_card_installments  \\\n",
            "count     110472.000000        110490.000000                   110490.000000   \n",
            "mean          22.990939           179.478066                        2.795448   \n",
            "min            6.000000             9.590000                        0.000000   \n",
            "25%           15.000000            65.600000                        1.000000   \n",
            "50%           20.000000           114.330000                        2.000000   \n",
            "75%           30.000000           194.957500                        4.000000   \n",
            "max          118.000000         13664.080000                       24.000000   \n",
            "std           11.686320           271.189699                        3.015564   \n",
            "\n",
            "        review_score           review_creation_date  \\\n",
            "count  109130.000000                         109130   \n",
            "mean        4.083552  2018-01-14 14:29:11.639329024   \n",
            "min         1.000000            2016-10-15 00:00:00   \n",
            "25%         4.000000            2017-09-27 00:00:00   \n",
            "50%         5.000000            2018-02-03 00:00:00   \n",
            "75%         5.000000            2018-05-16 00:00:00   \n",
            "max         5.000000            2018-08-31 00:00:00   \n",
            "std         1.345916                            NaN   \n",
            "\n",
            "             review_answer_timestamp  \n",
            "count                         109130  \n",
            "mean   2018-01-17 17:56:41.484055808  \n",
            "min              2016-10-16 03:20:17  \n",
            "25%    2017-09-30 16:45:37.249999872  \n",
            "50%       2018-02-06 22:46:45.500000  \n",
            "75%              2018-05-20 16:11:21  \n",
            "max              2018-10-29 12:27:35  \n",
            "std                              NaN  \n"
          ]
        }
      ]
    },
    {
      "cell_type": "code",
      "source": [
        "print(\"\\nDescriptive Statistics (Object/Categorical):\")\n",
        "print(df_main.describe(include=['object', 'category']))"
      ],
      "metadata": {
        "colab": {
          "base_uri": "https://localhost:8080/"
        },
        "id": "YXzSfsQlM6Ar",
        "outputId": "f7f68283-1931-480e-aedb-995b05db14f0"
      },
      "execution_count": null,
      "outputs": [
        {
          "output_type": "stream",
          "name": "stdout",
          "text": [
            "\n",
            "Descriptive Statistics (Object/Categorical):\n",
            "                                order_id order_status  \\\n",
            "count                             110493       110493   \n",
            "unique                             96478            1   \n",
            "top     5a3b1c29a49756e75f1ef513383c0c12    delivered   \n",
            "freq                                  22       110493   \n",
            "\n",
            "       order_purchase_timestamp    order_approved_at  \\\n",
            "count                    110493               110493   \n",
            "unique                    95956                88275   \n",
            "top         2017-10-17 13:06:29  2018-02-24 03:20:27   \n",
            "freq                         22                   23   \n",
            "\n",
            "       order_delivered_carrier_date order_delivered_customer_date  \\\n",
            "count                        110493                        110493   \n",
            "unique                        80107                         95659   \n",
            "top             2018-05-09 15:48:00           2017-10-22 14:43:54   \n",
            "freq                             48                            22   \n",
            "\n",
            "       order_estimated_delivery_date                        product_id  \\\n",
            "count                         110493                            110493   \n",
            "unique                           445                             32216   \n",
            "top              2017-12-20 00:00:00  aca2eb7d00ea1a7b8ebd4e68314663af   \n",
            "freq                             597                               520   \n",
            "\n",
            "                               seller_id  shipping_limit_date  ...  \\\n",
            "count                             110493               110493  ...   \n",
            "unique                              2970                91344  ...   \n",
            "top     6560211a19b47992c3666cc44a7e94c0  2017-10-24 13:06:21  ...   \n",
            "freq                                1999                   22  ...   \n",
            "\n",
            "                      customer_unique_id customer_city  customer_state  \\\n",
            "count                             110493        110493          110493   \n",
            "unique                             93358          4085              27   \n",
            "top     d97b3cfb22b0d6b25ac9ed4e9c2d481b     sao paulo              SP   \n",
            "freq                                  24         17462           46584   \n",
            "\n",
            "        seller_city  seller_state  payment_types review_comment_title  \\\n",
            "count        110493        110493         110490               109133   \n",
            "unique          595            22              6                 4363   \n",
            "top       sao paulo            SP    credit_card                        \n",
            "freq          27398         78821          82345                96045   \n",
            "\n",
            "       review_comment_message review_creation_date review_answer_timestamp  \n",
            "count                  109133               109133                  109133  \n",
            "unique                  34420                  627                   95455  \n",
            "top                            2018-05-15 00:00:00     2017-07-30 14:19:07  \n",
            "freq                    63337                  507                      21  \n",
            "\n",
            "[4 rows x 26 columns]\n"
          ]
        }
      ]
    },
    {
      "cell_type": "code",
      "source": [
        "print(\"\\nMissing Values per Column:\")\n",
        "print(df_main.isnull().sum())\n",
        "\n",
        "print(\"\\nPercentage of Missing Values per Column:\")\n",
        "print((df_main.isnull().sum() / len(df_main)) * 100)\n"
      ],
      "metadata": {
        "colab": {
          "base_uri": "https://localhost:8080/"
        },
        "id": "JTJSSPUrNW2J",
        "outputId": "7f405b8c-99a2-412d-d5ad-7d461c8f35e4"
      },
      "execution_count": null,
      "outputs": [
        {
          "output_type": "stream",
          "name": "stdout",
          "text": [
            "\n",
            "Missing Values per Column:\n",
            "order_id                               0\n",
            "order_status                           0\n",
            "order_purchase_timestamp               0\n",
            "order_approved_at                      0\n",
            "order_delivered_carrier_date           0\n",
            "order_delivered_customer_date          0\n",
            "order_estimated_delivery_date          0\n",
            "order_item_id                          0\n",
            "product_id                             0\n",
            "seller_id                              0\n",
            "shipping_limit_date                    0\n",
            "item_price                             0\n",
            "item_freight_value                     0\n",
            "product_category_name_portuguese       0\n",
            "product_category_name_english       1565\n",
            "product_weight_g                       0\n",
            "product_length_cm                      0\n",
            "product_height_cm                      0\n",
            "product_width_cm                       0\n",
            "customer_unique_id                     0\n",
            "customer_zip_code_prefix               0\n",
            "customer_city                          0\n",
            "customer_state                         0\n",
            "seller_zip_code_prefix                 0\n",
            "seller_city                            0\n",
            "seller_state                           0\n",
            "total_payment_value                    3\n",
            "payment_types                          3\n",
            "total_credit_card_installments         3\n",
            "review_score                        1360\n",
            "review_comment_title                1360\n",
            "review_comment_message              1360\n",
            "review_creation_date                1360\n",
            "review_answer_timestamp             1360\n",
            "dtype: int64\n",
            "\n",
            "Percentage of Missing Values per Column:\n",
            "order_id                            0.000000\n",
            "order_status                        0.000000\n",
            "order_purchase_timestamp            0.000000\n",
            "order_approved_at                   0.000000\n",
            "order_delivered_carrier_date        0.000000\n",
            "order_delivered_customer_date       0.000000\n",
            "order_estimated_delivery_date       0.000000\n",
            "order_item_id                       0.000000\n",
            "product_id                          0.000000\n",
            "seller_id                           0.000000\n",
            "shipping_limit_date                 0.000000\n",
            "item_price                          0.000000\n",
            "item_freight_value                  0.000000\n",
            "product_category_name_portuguese    0.000000\n",
            "product_category_name_english       1.416379\n",
            "product_weight_g                    0.000000\n",
            "product_length_cm                   0.000000\n",
            "product_height_cm                   0.000000\n",
            "product_width_cm                    0.000000\n",
            "customer_unique_id                  0.000000\n",
            "customer_zip_code_prefix            0.000000\n",
            "customer_city                       0.000000\n",
            "customer_state                      0.000000\n",
            "seller_zip_code_prefix              0.000000\n",
            "seller_city                         0.000000\n",
            "seller_state                        0.000000\n",
            "total_payment_value                 0.002715\n",
            "payment_types                       0.002715\n",
            "total_credit_card_installments      0.002715\n",
            "review_score                        1.230847\n",
            "review_comment_title                1.230847\n",
            "review_comment_message              1.230847\n",
            "review_creation_date                1.230847\n",
            "review_answer_timestamp             1.230847\n",
            "dtype: float64\n"
          ]
        }
      ]
    },
    {
      "cell_type": "code",
      "source": [
        "print(\"\\nFirst few rows:\")\n",
        "print(df_main.head())\n",
        "\n",
        "print(\"\\nLast few rows:\")\n",
        "print(df_main.tail())\n",
        "\n",
        "print(\"\\nRandom sample of rows:\")\n",
        "print(df_main.sample(5))"
      ],
      "metadata": {
        "colab": {
          "base_uri": "https://localhost:8080/"
        },
        "id": "QXFCfhScNs2I",
        "outputId": "a0e8429c-f05b-449e-850e-146e7d32cd40"
      },
      "execution_count": null,
      "outputs": [
        {
          "output_type": "stream",
          "name": "stdout",
          "text": [
            "\n",
            "First few rows:\n",
            "                           order_id order_status order_purchase_timestamp  \\\n",
            "0  bfbd0f9bdef84302105ad712db648a6c    delivered      2016-09-15 12:16:38   \n",
            "1  bfbd0f9bdef84302105ad712db648a6c    delivered      2016-09-15 12:16:38   \n",
            "2  bfbd0f9bdef84302105ad712db648a6c    delivered      2016-09-15 12:16:38   \n",
            "3  3b697a20d9e427646d92567910af6d57    delivered      2016-10-03 09:44:50   \n",
            "4  be5bc2f0da14d8071e2d45451ad119d9    delivered      2016-10-03 16:56:50   \n",
            "\n",
            "     order_approved_at order_delivered_carrier_date  \\\n",
            "0  2016-09-15 12:16:38          2016-11-07 17:11:53   \n",
            "1  2016-09-15 12:16:38          2016-11-07 17:11:53   \n",
            "2  2016-09-15 12:16:38          2016-11-07 17:11:53   \n",
            "3  2016-10-06 15:50:54          2016-10-23 14:02:13   \n",
            "4  2016-10-06 16:03:44          2016-10-21 16:33:46   \n",
            "\n",
            "  order_delivered_customer_date order_estimated_delivery_date  order_item_id  \\\n",
            "0           2016-11-09 07:47:38           2016-10-04 00:00:00              1   \n",
            "1           2016-11-09 07:47:38           2016-10-04 00:00:00              2   \n",
            "2           2016-11-09 07:47:38           2016-10-04 00:00:00              3   \n",
            "3           2016-10-26 14:02:13           2016-10-27 00:00:00              1   \n",
            "4           2016-10-27 18:19:38           2016-11-07 00:00:00              1   \n",
            "\n",
            "                         product_id                         seller_id  ...  \\\n",
            "0  5a6b04657a4c5ee34285d1e4619a96b4  ecccfa2bb93b34a3bf033cc5d1dcdc69  ...   \n",
            "1  5a6b04657a4c5ee34285d1e4619a96b4  ecccfa2bb93b34a3bf033cc5d1dcdc69  ...   \n",
            "2  5a6b04657a4c5ee34285d1e4619a96b4  ecccfa2bb93b34a3bf033cc5d1dcdc69  ...   \n",
            "3  3ae08df6bcbfe23586dd431c40bddbb7  522620dcb18a6b31cd7bdf73665113a9  ...   \n",
            "4  fd7fd78fd3cbc1b0a6370a7909c0a629  f09b760d23495ac9a7e00d29b769007c  ...   \n",
            "\n",
            "  seller_city  seller_state  total_payment_value payment_types  \\\n",
            "0    curitiba            PR                  NaN          None   \n",
            "1    curitiba            PR                  NaN          None   \n",
            "2    curitiba            PR                  NaN          None   \n",
            "3    cascavel            PR                45.46        boleto   \n",
            "4   catanduva            SP                39.09        boleto   \n",
            "\n",
            "  total_credit_card_installments review_score review_comment_title  \\\n",
            "0                            NaN          1.0                        \n",
            "1                            NaN          1.0                        \n",
            "2                            NaN          1.0                        \n",
            "3                            0.0          4.0                        \n",
            "4                            0.0          4.0                        \n",
            "\n",
            "                           review_comment_message review_creation_date  \\\n",
            "0  nao recebi o produto e nem resposta da empresa  2016-10-06 00:00:00   \n",
            "1  nao recebi o produto e nem resposta da empresa  2016-10-06 00:00:00   \n",
            "2  nao recebi o produto e nem resposta da empresa  2016-10-06 00:00:00   \n",
            "3              Facilidade em manusear o aparelho.  2016-10-26 00:00:00   \n",
            "4                                   Tudo certo...  2016-10-28 00:00:00   \n",
            "\n",
            "  review_answer_timestamp  \n",
            "0     2016-10-07 18:32:28  \n",
            "1     2016-10-07 18:32:28  \n",
            "2     2016-10-07 18:32:28  \n",
            "3     2016-10-30 21:32:15  \n",
            "4     2016-10-29 11:29:53  \n",
            "\n",
            "[5 rows x 34 columns]\n",
            "\n",
            "Last few rows:\n",
            "                                order_id order_status  \\\n",
            "110488  0b223d92c27432930dfe407c6aea3041    delivered   \n",
            "110489  0b223d92c27432930dfe407c6aea3041    delivered   \n",
            "110490  168626408cb32af0ffaf76711caae1dc    delivered   \n",
            "110491  03ef5dedbe7492bdae72eec50764c43f    delivered   \n",
            "110492  35a972d7f8436f405b56e36add1a7140    delivered   \n",
            "\n",
            "       order_purchase_timestamp    order_approved_at  \\\n",
            "110488      2018-08-29 14:18:23  2018-08-29 14:31:07   \n",
            "110489      2018-08-29 14:18:23  2018-08-29 14:31:07   \n",
            "110490      2018-08-29 14:18:28  2018-08-29 14:30:23   \n",
            "110491      2018-08-29 14:52:00  2018-08-29 15:05:22   \n",
            "110492      2018-08-29 15:00:37  2018-08-29 15:10:26   \n",
            "\n",
            "       order_delivered_carrier_date order_delivered_customer_date  \\\n",
            "110488          2018-08-29 15:29:00           2018-08-30 16:24:55   \n",
            "110489          2018-08-29 15:29:00           2018-08-30 16:24:55   \n",
            "110490          2018-08-29 18:51:00           2018-08-30 16:52:31   \n",
            "110491          2018-08-29 20:01:00           2018-08-30 16:36:59   \n",
            "110492          2018-08-29 16:57:00           2018-08-30 16:23:36   \n",
            "\n",
            "       order_estimated_delivery_date  order_item_id  \\\n",
            "110488           2018-09-04 00:00:00              1   \n",
            "110489           2018-09-04 00:00:00              2   \n",
            "110490           2018-09-11 00:00:00              1   \n",
            "110491           2018-09-03 00:00:00              1   \n",
            "110492           2018-09-05 00:00:00              1   \n",
            "\n",
            "                              product_id                         seller_id  \\\n",
            "110488  2b4472df15512a2825ae86fd9ae79335  67bf6941ba2f1fa1d02c375766bc3e53   \n",
            "110489  2b4472df15512a2825ae86fd9ae79335  67bf6941ba2f1fa1d02c375766bc3e53   \n",
            "110490  bdcf6a834e8faa30dac3886c7a58e92e  2a84855fd20af891be03bc5924d2b453   \n",
            "110491  c7f27c5bef2338541c772b5776403e6a  7d7866a99a8656a42c7ff6352a433410   \n",
            "110492  d04857e7b4b708ee8b8b9921163edba3  9f505651f4a6abe901a56cdc21508025   \n",
            "\n",
            "        ...     seller_city  seller_state  total_payment_value payment_types  \\\n",
            "110488  ...        curitiba            PR               510.96   credit_card   \n",
            "110489  ...        curitiba            PR               510.96   credit_card   \n",
            "110490  ...  belo horizonte            MG                61.29       voucher   \n",
            "110491  ...       sao paulo            SP                33.23   credit_card   \n",
            "110492  ...       sao paulo            SP                93.75   credit_card   \n",
            "\n",
            "       total_credit_card_installments review_score      review_comment_title  \\\n",
            "110488                            8.0          5.0                             \n",
            "110489                            8.0          5.0                             \n",
            "110490                            0.0          5.0  Chegou rápido e correto    \n",
            "110491                            1.0          3.0                 Recomendo   \n",
            "110492                            1.0          5.0                             \n",
            "\n",
            "       review_comment_message review_creation_date review_answer_timestamp  \n",
            "110488                         2018-08-31 00:00:00     2018-10-24 16:27:36  \n",
            "110489                         2018-08-31 00:00:00     2018-10-24 16:27:36  \n",
            "110490             Recomendo   2018-08-31 00:00:00     2018-09-02 20:55:45  \n",
            "110491                         2018-08-31 00:00:00     2018-08-31 20:02:48  \n",
            "110492                         2018-08-31 00:00:00     2018-09-09 16:49:27  \n",
            "\n",
            "[5 rows x 34 columns]\n",
            "\n",
            "Random sample of rows:\n",
            "                               order_id order_status order_purchase_timestamp  \\\n",
            "12501  44653f1f97b2b55f4f96313c3ac8c5c0    delivered      2017-05-31 12:26:02   \n",
            "37871  de8ff53ccb831c621c49cdfb8953fd9a    delivered      2017-11-15 10:21:16   \n",
            "82877  f07d68bd43db49d20192ee3036b2cf01    delivered      2018-05-05 11:54:12   \n",
            "89883  62adfd8a504d828f9dc9c184f2a236b8    delivered      2018-06-03 19:44:12   \n",
            "62538  63778352553a1b42b2990ec27ef28f9d    delivered      2018-02-18 16:34:42   \n",
            "\n",
            "         order_approved_at order_delivered_carrier_date  \\\n",
            "12501  2017-05-31 13:10:25          2017-06-01 10:50:09   \n",
            "37871  2017-11-15 10:30:30          2017-11-16 16:39:07   \n",
            "82877  2018-05-05 12:13:28          2018-05-10 14:26:00   \n",
            "89883  2018-06-03 19:55:21          2018-06-04 15:30:00   \n",
            "62538  2018-02-20 07:27:32          2018-02-20 19:04:19   \n",
            "\n",
            "      order_delivered_customer_date order_estimated_delivery_date  \\\n",
            "12501           2017-06-06 15:16:10           2017-06-27 00:00:00   \n",
            "37871           2017-11-17 21:42:55           2017-11-29 00:00:00   \n",
            "82877           2018-05-22 19:22:24           2018-06-04 00:00:00   \n",
            "89883           2018-06-07 22:48:37           2018-07-11 00:00:00   \n",
            "62538           2018-02-28 20:16:48           2018-03-13 00:00:00   \n",
            "\n",
            "       order_item_id                        product_id  \\\n",
            "12501              1  29427de7f8a9ee983d9dbc51cec569b4   \n",
            "37871              2  b01d34f6d2545269d348181768eca049   \n",
            "82877              1  19c91ef95d509ea33eda93495c4d3481   \n",
            "89883              1  f3bbbaabf3ce091b88d2511c1a29796c   \n",
            "62538              2  29f44bef673bbef52b8c43bd2fe3242f   \n",
            "\n",
            "                              seller_id  ... seller_city  seller_state  \\\n",
            "12501  7a67c85e85bb2ce8582c35f2203ad736  ...   sao paulo            SP   \n",
            "37871  6560211a19b47992c3666cc44a7e94c0  ...   sao paulo            SP   \n",
            "82877  06a2c3af7b3aee5d69171b0e14f0ee87  ...    sao luis            MA   \n",
            "89883  aac29b1b99776be73c3049939652091d  ...  uberlandia            MG   \n",
            "62538  5debea795b07621e1f90532e18f96145  ...   apucarana            PR   \n",
            "\n",
            "       total_payment_value payment_types total_credit_card_installments  \\\n",
            "12501               117.94   credit_card                            5.0   \n",
            "37871               221.92   credit_card                            4.0   \n",
            "82877               149.86   credit_card                           10.0   \n",
            "89883                45.22   credit_card                            4.0   \n",
            "62538                74.96        boleto                            0.0   \n",
            "\n",
            "      review_score review_comment_title  \\\n",
            "12501          5.0                        \n",
            "37871          2.0                        \n",
            "82877          4.0                        \n",
            "89883          4.0                        \n",
            "62538          3.0                        \n",
            "\n",
            "                                  review_comment_message review_creation_date  \\\n",
            "12501  Tanto vendedor como loja, excelentes, gosto mu...  2017-06-07 00:00:00   \n",
            "37871  Eu so recebi um relógio o do mickei...Pensei q...  2017-11-18 00:00:00   \n",
            "82877                                                     2018-05-23 00:00:00   \n",
            "89883                                                     2018-06-09 00:00:00   \n",
            "62538  Regular porque eu comprei 2 tubos e paguei , e...  2018-03-01 00:00:00   \n",
            "\n",
            "      review_answer_timestamp  \n",
            "12501     2017-06-07 16:08:51  \n",
            "37871     2017-11-19 12:30:35  \n",
            "82877     2018-05-24 16:28:49  \n",
            "89883     2018-06-11 23:08:01  \n",
            "62538     2018-03-01 23:31:23  \n",
            "\n",
            "[5 rows x 34 columns]\n"
          ]
        }
      ]
    },
    {
      "cell_type": "markdown",
      "source": [
        "The following cell will drop all the rows with missing values."
      ],
      "metadata": {
        "id": "MttCGpWZQTHe"
      }
    },
    {
      "cell_type": "code",
      "source": [
        "df_main_cleaned = df_main.dropna(subset=[\n",
        "    'product_category_name_english',\n",
        "    'total_payment_value',\n",
        "    'payment_types',\n",
        "    'total_credit_card_installments',\n",
        "    'review_score',\n",
        "    'review_comment_title',\n",
        "    'review_comment_message',\n",
        "    'review_creation_date',\n",
        "    'review_answer_timestamp'], inplace=False)"
      ],
      "metadata": {
        "id": "MjbxxR8ZQSoc"
      },
      "execution_count": null,
      "outputs": []
    },
    {
      "cell_type": "markdown",
      "source": [
        "Let's see how it changes"
      ],
      "metadata": {
        "id": "PVKN3Sf2UPJr"
      }
    },
    {
      "cell_type": "code",
      "source": [
        "print(\"\\nMissing Values per Column:\")\n",
        "print(df_main_cleaned.isnull().sum())\n",
        "\n",
        "print(\"\\nPercentage of Missing Values per Column:\")\n",
        "print((df_main_cleaned.isnull().sum() / len(df_main)) * 100)"
      ],
      "metadata": {
        "colab": {
          "base_uri": "https://localhost:8080/"
        },
        "id": "SWh0GaQmUTOf",
        "outputId": "82aad836-0b1f-45ff-c327-a139c2d81d8b"
      },
      "execution_count": null,
      "outputs": [
        {
          "output_type": "stream",
          "name": "stdout",
          "text": [
            "\n",
            "Missing Values per Column:\n",
            "order_id                            0\n",
            "order_status                        0\n",
            "order_purchase_timestamp            0\n",
            "order_approved_at                   0\n",
            "order_delivered_carrier_date        0\n",
            "order_delivered_customer_date       0\n",
            "order_estimated_delivery_date       0\n",
            "order_item_id                       0\n",
            "product_id                          0\n",
            "seller_id                           0\n",
            "shipping_limit_date                 0\n",
            "item_price                          0\n",
            "item_freight_value                  0\n",
            "product_category_name_portuguese    0\n",
            "product_category_name_english       0\n",
            "product_weight_g                    0\n",
            "product_length_cm                   0\n",
            "product_height_cm                   0\n",
            "product_width_cm                    0\n",
            "customer_unique_id                  0\n",
            "customer_zip_code_prefix            0\n",
            "customer_city                       0\n",
            "customer_state                      0\n",
            "seller_zip_code_prefix              0\n",
            "seller_city                         0\n",
            "seller_state                        0\n",
            "total_payment_value                 0\n",
            "payment_types                       0\n",
            "total_credit_card_installments      0\n",
            "review_score                        0\n",
            "review_comment_title                0\n",
            "review_comment_message              0\n",
            "review_creation_date                0\n",
            "review_answer_timestamp             0\n",
            "dtype: int64\n",
            "\n",
            "Percentage of Missing Values per Column:\n",
            "order_id                            0.0\n",
            "order_status                        0.0\n",
            "order_purchase_timestamp            0.0\n",
            "order_approved_at                   0.0\n",
            "order_delivered_carrier_date        0.0\n",
            "order_delivered_customer_date       0.0\n",
            "order_estimated_delivery_date       0.0\n",
            "order_item_id                       0.0\n",
            "product_id                          0.0\n",
            "seller_id                           0.0\n",
            "shipping_limit_date                 0.0\n",
            "item_price                          0.0\n",
            "item_freight_value                  0.0\n",
            "product_category_name_portuguese    0.0\n",
            "product_category_name_english       0.0\n",
            "product_weight_g                    0.0\n",
            "product_length_cm                   0.0\n",
            "product_height_cm                   0.0\n",
            "product_width_cm                    0.0\n",
            "customer_unique_id                  0.0\n",
            "customer_zip_code_prefix            0.0\n",
            "customer_city                       0.0\n",
            "customer_state                      0.0\n",
            "seller_zip_code_prefix              0.0\n",
            "seller_city                         0.0\n",
            "seller_state                        0.0\n",
            "total_payment_value                 0.0\n",
            "payment_types                       0.0\n",
            "total_credit_card_installments      0.0\n",
            "review_score                        0.0\n",
            "review_comment_title                0.0\n",
            "review_comment_message              0.0\n",
            "review_creation_date                0.0\n",
            "review_answer_timestamp             0.0\n",
            "dtype: float64\n"
          ]
        }
      ]
    },
    {
      "cell_type": "markdown",
      "source": [
        "Correcting the data type on intended timestamps"
      ],
      "metadata": {
        "id": "fWZrkltvekG5"
      }
    },
    {
      "cell_type": "code",
      "source": [
        "timestamp_cols = [\n",
        "    'order_purchase_timestamp', 'order_approved_at',\n",
        "    'order_delivered_carrier_date', 'order_delivered_customer_date',\n",
        "    'order_estimated_delivery_date', 'shipping_limit_date',\n",
        "    'review_creation_date', 'review_answer_timestamp'\n",
        "]\n",
        "for col in timestamp_cols:\n",
        "    df_main_cleaned[col] = pd.to_datetime(df_main_cleaned[col], errors='coerce') # errors='coerce' will turn unparseable dates into NaT (Not a Time)\n"
      ],
      "metadata": {
        "colab": {
          "base_uri": "https://localhost:8080/"
        },
        "id": "XR99REbReImu",
        "outputId": "c615c1b3-a691-46b3-afeb-515eb6a3b4ab"
      },
      "execution_count": null,
      "outputs": [
        {
          "output_type": "stream",
          "name": "stderr",
          "text": [
            "<ipython-input-23-656be8b0f0b7>:8: SettingWithCopyWarning: \n",
            "A value is trying to be set on a copy of a slice from a DataFrame.\n",
            "Try using .loc[row_indexer,col_indexer] = value instead\n",
            "\n",
            "See the caveats in the documentation: https://pandas.pydata.org/pandas-docs/stable/user_guide/indexing.html#returning-a-view-versus-a-copy\n",
            "  df_main_cleaned[col] = pd.to_datetime(df_main_cleaned[col], errors='coerce') # errors='coerce' will turn unparseable dates into NaT (Not a Time)\n",
            "<ipython-input-23-656be8b0f0b7>:8: SettingWithCopyWarning: \n",
            "A value is trying to be set on a copy of a slice from a DataFrame.\n",
            "Try using .loc[row_indexer,col_indexer] = value instead\n",
            "\n",
            "See the caveats in the documentation: https://pandas.pydata.org/pandas-docs/stable/user_guide/indexing.html#returning-a-view-versus-a-copy\n",
            "  df_main_cleaned[col] = pd.to_datetime(df_main_cleaned[col], errors='coerce') # errors='coerce' will turn unparseable dates into NaT (Not a Time)\n",
            "<ipython-input-23-656be8b0f0b7>:8: SettingWithCopyWarning: \n",
            "A value is trying to be set on a copy of a slice from a DataFrame.\n",
            "Try using .loc[row_indexer,col_indexer] = value instead\n",
            "\n",
            "See the caveats in the documentation: https://pandas.pydata.org/pandas-docs/stable/user_guide/indexing.html#returning-a-view-versus-a-copy\n",
            "  df_main_cleaned[col] = pd.to_datetime(df_main_cleaned[col], errors='coerce') # errors='coerce' will turn unparseable dates into NaT (Not a Time)\n",
            "<ipython-input-23-656be8b0f0b7>:8: SettingWithCopyWarning: \n",
            "A value is trying to be set on a copy of a slice from a DataFrame.\n",
            "Try using .loc[row_indexer,col_indexer] = value instead\n",
            "\n",
            "See the caveats in the documentation: https://pandas.pydata.org/pandas-docs/stable/user_guide/indexing.html#returning-a-view-versus-a-copy\n",
            "  df_main_cleaned[col] = pd.to_datetime(df_main_cleaned[col], errors='coerce') # errors='coerce' will turn unparseable dates into NaT (Not a Time)\n",
            "<ipython-input-23-656be8b0f0b7>:8: SettingWithCopyWarning: \n",
            "A value is trying to be set on a copy of a slice from a DataFrame.\n",
            "Try using .loc[row_indexer,col_indexer] = value instead\n",
            "\n",
            "See the caveats in the documentation: https://pandas.pydata.org/pandas-docs/stable/user_guide/indexing.html#returning-a-view-versus-a-copy\n",
            "  df_main_cleaned[col] = pd.to_datetime(df_main_cleaned[col], errors='coerce') # errors='coerce' will turn unparseable dates into NaT (Not a Time)\n",
            "<ipython-input-23-656be8b0f0b7>:8: SettingWithCopyWarning: \n",
            "A value is trying to be set on a copy of a slice from a DataFrame.\n",
            "Try using .loc[row_indexer,col_indexer] = value instead\n",
            "\n",
            "See the caveats in the documentation: https://pandas.pydata.org/pandas-docs/stable/user_guide/indexing.html#returning-a-view-versus-a-copy\n",
            "  df_main_cleaned[col] = pd.to_datetime(df_main_cleaned[col], errors='coerce') # errors='coerce' will turn unparseable dates into NaT (Not a Time)\n",
            "<ipython-input-23-656be8b0f0b7>:8: SettingWithCopyWarning: \n",
            "A value is trying to be set on a copy of a slice from a DataFrame.\n",
            "Try using .loc[row_indexer,col_indexer] = value instead\n",
            "\n",
            "See the caveats in the documentation: https://pandas.pydata.org/pandas-docs/stable/user_guide/indexing.html#returning-a-view-versus-a-copy\n",
            "  df_main_cleaned[col] = pd.to_datetime(df_main_cleaned[col], errors='coerce') # errors='coerce' will turn unparseable dates into NaT (Not a Time)\n",
            "<ipython-input-23-656be8b0f0b7>:8: SettingWithCopyWarning: \n",
            "A value is trying to be set on a copy of a slice from a DataFrame.\n",
            "Try using .loc[row_indexer,col_indexer] = value instead\n",
            "\n",
            "See the caveats in the documentation: https://pandas.pydata.org/pandas-docs/stable/user_guide/indexing.html#returning-a-view-versus-a-copy\n",
            "  df_main_cleaned[col] = pd.to_datetime(df_main_cleaned[col], errors='coerce') # errors='coerce' will turn unparseable dates into NaT (Not a Time)\n"
          ]
        }
      ]
    }
  ]
}